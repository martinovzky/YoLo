{
  "nbformat": 4,
  "nbformat_minor": 0,
  "metadata": {
    "colab": {
      "provenance": [],
      "machine_shape": "hm",
      "authorship_tag": "ABX9TyP03ozGybnQ6LwbtpSy2VoW",
      "include_colab_link": true
    },
    "kernelspec": {
      "name": "python3",
      "display_name": "Python 3"
    },
    "language_info": {
      "name": "python"
    }
  },
  "cells": [
    {
      "cell_type": "markdown",
      "metadata": {
        "id": "view-in-github",
        "colab_type": "text"
      },
      "source": [
        "<a href=\"https://colab.research.google.com/github/martinovzky/YoLo/blob/main/training.ipynb\" target=\"_parent\"><img src=\"https://colab.research.google.com/assets/colab-badge.svg\" alt=\"Open In Colab\"/></a>"
      ]
    },
    {
      "cell_type": "code",
      "execution_count": null,
      "metadata": {
        "id": "JkkgLsgYhS8g",
        "collapsed": true
      },
      "outputs": [],
      "source": [
        "!pip install ultralytics"
      ]
    },
    {
      "cell_type": "code",
      "source": [
        "from ultralytics import YOLO"
      ],
      "metadata": {
        "id": "93hD7CkFQFyw"
      },
      "execution_count": null,
      "outputs": []
    },
    {
      "cell_type": "code",
      "source": [
        "from google.colab import drive\n",
        "drive.mount('/content/drive')"
      ],
      "metadata": {
        "id": "I1KMpgX2J3QF"
      },
      "execution_count": null,
      "outputs": []
    },
    {
      "cell_type": "code",
      "source": [
        "zip_path = \"/content/drive/MyDrive/Colab_Notebooks/Projects/Office_items_data.zip\"\n",
        "!unzip -q \"$zip_path\" -d \"/content/office_items\"\n"
      ],
      "metadata": {
        "id": "7e7XGRavMb_v"
      },
      "execution_count": null,
      "outputs": []
    },
    {
      "cell_type": "code",
      "source": [
        "model = YOLO('yolov8m.pt')\n",
        "model.train(\n",
        "    data = 'office_items/data.yaml',\n",
        "    epochs = 50,\n",
        "    imgsz = 640,\n",
        "    batch = 32,\n",
        "    patience = 23, #training stops after 23 epochs if no progress\n",
        "    project=\"runs/train\",\n",
        "    name=\"OfficeItems_yolov8m\"\n",
        "    )"
      ],
      "metadata": {
        "id": "_Z9L1r_JO5bx"
      },
      "execution_count": null,
      "outputs": []
    },
    {
      "cell_type": "code",
      "source": [
        "!cp -r runs/train/OfficeItems_yolov8m /content/drive/MyDrive/"
      ],
      "metadata": {
        "id": "rkriLzh_S_Nj"
      },
      "execution_count": null,
      "outputs": []
    },
    {
      "cell_type": "code",
      "source": [
        "import os\n",
        "\n",
        "# Zip the training folder\n",
        "!zip -r OfficeItems_yolov8m.zip runs/train/OfficeItems_yolov8m > /dev/null\n",
        "\n",
        "# Move it to Drive\n",
        "!mv OfficeItems_yolov8m.zip /content/drive/MyDrive/\n",
        "\n",
        "print(\"✅ Backup saved to Google Drive as OfficeItems_yolov8m.zip\")"
      ],
      "metadata": {
        "id": "ZIRJ9kwwdZZ1"
      },
      "execution_count": null,
      "outputs": []
    }
  ]
}